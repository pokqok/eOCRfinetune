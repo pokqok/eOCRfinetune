{
 "cells": [
  {
   "cell_type": "code",
   "execution_count": 8,
   "id": "241d8899",
   "metadata": {},
   "outputs": [
    {
     "name": "stdout",
     "output_type": "stream",
     "text": [
      "[준비] tree 명령어를 설치합니다...\n",
      "✅ tree 설치 완료!\n",
      "\n",
      "============================================================\n",
      "'/E:/download' 폴더의 전체 구조를 확인합니다.\n",
      "============================================================\n"
     ]
    },
    {
     "name": "stderr",
     "output_type": "stream",
     "text": [
      "'apt-get'��(��) ���� �Ǵ� �ܺ� ����, ������ �� �ִ� ���α׷�, �Ǵ�\n",
      "��ġ ������ �ƴմϴ�.\n"
     ]
    },
    {
     "name": "stdout",
     "output_type": "stream",
     "text": [
      "�Ű� ������ �ʹ� �����ϴ� - 4\n"
     ]
    }
   ],
   "source": [
    "import os\n",
    "\n",
    "# -------------------------------------------------------------------\n",
    "# ✅ 사용자님께서 이 부분의 폴더 이름을 실제 사용하는 이름으로 수정해주세요.\n",
    "PROJECT_DIR = \"/E:/download\"\n",
    "# -------------------------------------------------------------------\n",
    "\n",
    "# tree 명령어 설치\n",
    "print(\"[준비] tree 명령어를 설치합니다...\")\n",
    "!apt-get install -q -y tree\n",
    "print(\"✅ tree 설치 완료!\")\n",
    "\n",
    "# 프로젝트 폴더 구조 보기\n",
    "print(\"\\n\" + \"=\"*60)\n",
    "print(f\"'{PROJECT_DIR}' 폴더의 전체 구조를 확인합니다.\")\n",
    "print(\"=\"*60)\n",
    "\n",
    "# libs 폴더가 있다면 제외하고, 4단계 깊이까지 출력\n",
    "!tree -L 4 -I 'libs' \"{PROJECT_DIR}\""
   ]
  },
  {
   "cell_type": "code",
   "execution_count": 10,
   "id": "8708d0d7",
   "metadata": {},
   "outputs": [
    {
     "name": "stdout",
     "output_type": "stream",
     "text": [
      "'E:/download'의 폴더 구조를 읽어서 'E:/download/structure.txt'에 저장합니다...\n",
      "✅ 작업 완료! 'E:/download/structure.txt' 파일을 확인해주세요.\n"
     ]
    }
   ],
   "source": [
    "import os\n",
    "\n",
    "# --- 설정 ---\n",
    "# 1. 구조를 파악하고 싶은 폴더 경로를 지정합니다.\n",
    "# 윈도우 경로를 파이썬에서 사용할 때는 역슬래시(\\)를 두 번 쓰거나 (\\\\)\n",
    "# 슬래시(/)를 사용해야 합니다.\n",
    "# root_dir = \"E:\\\\download\"  # 이 방식 또는\n",
    "root_dir = \"E:/download\"     # 이 방식을 사용하세요.\n",
    "\n",
    "# 2. 결과가 저장될 파일 경로를 지정합니다.\n",
    "output_file_path = \"E:/download/structure.txt\"\n",
    "\n",
    "print(f\"'{root_dir}'의 폴더 구조를 읽어서 '{output_file_path}'에 저장합니다...\")\n",
    "\n",
    "try:\n",
    "    with open(output_file_path, 'w', encoding='utf-8') as f:\n",
    "        # os.walk를 사용하여 모든 하위 폴더와 파일을 순회합니다.\n",
    "        for root, dirs, files in os.walk(root_dir):\n",
    "            # 현재 폴더의 깊이를 계산하여 들여쓰기를 만듭니다.\n",
    "            level = root.replace(root_dir, '').count(os.sep)\n",
    "            indent = ' ' * 4 * (level)\n",
    "            \n",
    "            # 현재 폴더 이름을 파일에 씁니다.\n",
    "            f.write(f'{indent}{os.path.basename(root)}/\\n')\n",
    "            \n",
    "            # 해당 폴더 안의 파일들을 파일에 씁니다.\n",
    "            sub_indent = ' ' * 4 * (level + 1)\n",
    "            for file_name in files:\n",
    "                f.write(f'{sub_indent}{file_name}\\n')\n",
    "\n",
    "    print(f\"✅ 작업 완료! '{output_file_path}' 파일을 확인해주세요.\")\n",
    "\n",
    "except Exception as e:\n",
    "    print(f\"❌ 오류가 발생했습니다: {e}\")"
   ]
  }
 ],
 "metadata": {
  "kernelspec": {
   "display_name": "Python 3",
   "language": "python",
   "name": "python3"
  },
  "language_info": {
   "codemirror_mode": {
    "name": "ipython",
    "version": 3
   },
   "file_extension": ".py",
   "mimetype": "text/x-python",
   "name": "python",
   "nbconvert_exporter": "python",
   "pygments_lexer": "ipython3",
   "version": "3.11.9"
  }
 },
 "nbformat": 4,
 "nbformat_minor": 5
}
